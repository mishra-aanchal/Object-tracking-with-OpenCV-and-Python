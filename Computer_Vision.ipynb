{
  "nbformat": 4,
  "nbformat_minor": 0,
  "metadata": {
    "colab": {
      "name": "Computer Vision.ipynb",
      "provenance": [],
      "toc_visible": true,
      "authorship_tag": "ABX9TyM8s+4ya7Ub/0wHavfvSYTj",
      "include_colab_link": true
    },
    "kernelspec": {
      "name": "python3",
      "display_name": "Python 3"
    }
  },
  "cells": [
    {
      "cell_type": "markdown",
      "metadata": {
        "id": "view-in-github",
        "colab_type": "text"
      },
      "source": [
        "<a href=\"https://colab.research.google.com/github/mishra-aanchal/Object-tracking-with-OpenCV-and-Python/blob/opticalflow/Computer_Vision.ipynb\" target=\"_parent\"><img src=\"https://colab.research.google.com/assets/colab-badge.svg\" alt=\"Open In Colab\"/></a>"
      ]
    },
    {
      "cell_type": "markdown",
      "metadata": {
        "id": "kZG9i8uOfVbL",
        "colab_type": "text"
      },
      "source": [
        "# 1.Import Libraries"
      ]
    },
    {
      "cell_type": "code",
      "metadata": {
        "id": "FfD0J9-Ke_O0",
        "colab_type": "code",
        "colab": {}
      },
      "source": [
        "import cv2\n",
        "import numpy as np"
      ],
      "execution_count": 0,
      "outputs": []
    },
    {
      "cell_type": "markdown",
      "metadata": {
        "id": "GY8OXvrKfxew",
        "colab_type": "text"
      },
      "source": [
        "# 2.Parameters for Shi-Tomasi corner detection\n"
      ]
    },
    {
      "cell_type": "code",
      "metadata": {
        "id": "mQ_ajhVcgUcD",
        "colab_type": "code",
        "colab": {}
      },
      "source": [
        "st_params = dict(maxCorners=30, \n",
        "                 qualityLevel=0.2,\n",
        "                 minDistance=2,\n",
        "                 blockSize=7)"
      ],
      "execution_count": 0,
      "outputs": []
    },
    {
      "cell_type": "markdown",
      "metadata": {
        "id": "agSqPX7GzlRB",
        "colab_type": "text"
      },
      "source": [
        "# 3. parameters for Lucas-Kanade optical flow"
      ]
    },
    {
      "cell_type": "code",
      "metadata": {
        "id": "FmzjxQF3z6YQ",
        "colab_type": "code",
        "colab": {}
      },
      "source": [
        "lk_params = dict(winSize=(15,15),\n",
        "                maxLevel=2,\n",
        "                criteria=(cv2.TERM_CRITERIA_EPS | cv2.TERM_CRITERIA_COUNT, 10, 1))  "
      ],
      "execution_count": 0,
      "outputs": []
    },
    {
      "cell_type": "markdown",
      "metadata": {
        "id": "aWPKnaPfCLM4",
        "colab_type": "text"
      },
      "source": [
        "# 4. Video Capture"
      ]
    },
    {
      "cell_type": "code",
      "metadata": {
        "id": "abv8BICxCQms",
        "colab_type": "code",
        "colab": {}
      },
      "source": [
        "cap = cv2.VideoCapture('video/run.mp4')\n"
      ],
      "execution_count": 0,
      "outputs": []
    },
    {
      "cell_type": "markdown",
      "metadata": {
        "id": "ZQ_E7fK5DR4e",
        "colab_type": "text"
      },
      "source": [
        "# 5. Color for optical flow"
      ]
    },
    {
      "cell_type": "code",
      "metadata": {
        "id": "f4fcaGZKDwWJ",
        "colab_type": "code",
        "colab": {}
      },
      "source": [
        "color = (0,255,0)"
      ],
      "execution_count": 0,
      "outputs": []
    },
    {
      "cell_type": "markdown",
      "metadata": {
        "id": "H7Eu_WJGD-LL",
        "colab_type": "text"
      },
      "source": [
        "# 6. Read the capture and get the first frame"
      ]
    },
    {
      "cell_type": "code",
      "metadata": {
        "id": "etalR1H4FLk1",
        "colab_type": "code",
        "colab": {}
      },
      "source": [
        "ret, first_frame = cap.read()"
      ],
      "execution_count": 0,
      "outputs": []
    },
    {
      "cell_type": "markdown",
      "metadata": {
        "id": "FVav8TDAFsF3",
        "colab_type": "text"
      },
      "source": [
        "# 7. Convert frame to Grayscale"
      ]
    },
    {
      "cell_type": "code",
      "metadata": {
        "id": "YBa9Thd_GVFb",
        "colab_type": "code",
        "colab": {}
      },
      "source": [
        "grayFrame = cv2.cvtColor(first_frame, cv2.COLOR_BGR2GRAY)\n"
      ],
      "execution_count": 0,
      "outputs": []
    },
    {
      "cell_type": "markdown",
      "metadata": {
        "id": "wSuG0keiOaed",
        "colab_type": "text"
      },
      "source": [
        "# 8. Find the strongest corners in the first frame"
      ]
    },
    {
      "cell_type": "code",
      "metadata": {
        "id": "2xGGaWhQOqgV",
        "colab_type": "code",
        "colab": {}
      },
      "source": [
        "prev = cv2.goodFeaturesToTrack(prev_gray,\n",
        "                               mask=None\n",
        "                               **st_params)"
      ],
      "execution_count": 0,
      "outputs": []
    },
    {
      "cell_type": "markdown",
      "metadata": {
        "id": "_EDw1EQzVOdK",
        "colab_type": "text"
      },
      "source": [
        "# 9. Create an image with the same dimensions as the frame for later drawing purposes"
      ]
    }
  ]
}